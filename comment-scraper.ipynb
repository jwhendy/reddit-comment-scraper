{
 "cells": [
  {
   "cell_type": "code",
   "execution_count": 3,
   "metadata": {},
   "outputs": [],
   "source": [
    "import os\n",
    "import pandas as pd\n",
    "import praw\n",
    "import time\n",
    "import pickle\n",
    "\n",
    "from dotenv import load_dotenv\n",
    "from plotnine import *\n",
    "from praw.models import MoreComments\n",
    "\n",
    "load_dotenv('.env')\n",
    "username, client_id, client_secret, pw = (\n",
    "    os.environ['username'],\n",
    "    os.environ['client_id'],\n",
    "    os.environ['client_secret'],\n",
    "    os.environ['pw'])\n",
    "\n",
    "reddit = praw.Reddit(client_id=client_id, \\\n",
    "                     client_secret=client_secret, \\\n",
    "                     user_agent='jwhendy-scraper', \\\n",
    "                     username=username, \\\n",
    "                     password=pw)"
   ]
  },
  {
   "cell_type": "code",
   "execution_count": 4,
   "metadata": {},
   "outputs": [],
   "source": [
    "sub_limit = 150\n",
    "n_top = 50\n",
    "n_old = 1000\n",
    "\n",
    "subs = ['askreddit', 'dataisbeautiful', 'funny', 'adviceanimals', 'friendsafari', \n",
    "        'pics', 'wtf', 'gaming', 'videos', 'teenagers', 'todayilearned', 'worldnews', 'nba', 'soccer', 'hockey',\n",
    "        'debatereligion', 'askscience', 'announcements', 'aww', 'music', 'movies', 'news', 'showerthoughts', 'science', 'iama', 'food',\n",
    "        'jokes', 'explainlikeimfive', 'gifs', 'books', 'lifeprotips', 'art', 'blog', 'earthporn', 'mildlyinteresting', 'diy', 'sports',\n",
    "        'nottheonion', 'space', 'gadgets', 'television', 'documentaries', 'photoshopbattles', 'listentothis', 'upliftingnews',\n",
    "        'tifu', 'internetisbeautiful', 'history', 'philosophy', 'futurology', 'oldschoolcool', 'writingprompts', 'nosleep', \n",
    "        'personalfinance', 'creepy', 'twoxchromosomes', 'memes']\n",
    "\n",
    "def get_post_info(post, sub_name):\n",
    "    info = {\n",
    "        'sub': sub_name,\n",
    "        'post_id': post.id,\n",
    "        'title': post.title,\n",
    "        'comments': post.num_comments,\n",
    "        'score': post.score,\n",
    "        'created_utc': post.created_utc\n",
    "    }\n",
    "\n",
    "    return info\n",
    "\n",
    "def get_comment_info(comment, sort):    \n",
    "    info = {\n",
    "        #'sub': comment.subreddit.title,\n",
    "        'post_id': comment.submission.id,\n",
    "        'comment_id': comment.id,\n",
    "        'created_utc': comment.created_utc,\n",
    "        'score': comment.score,\n",
    "        'top_level': comment.parent_id.startswith('t3_'),\n",
    "        'sort': sort}\n",
    "\n",
    "    return info\n",
    "\n",
    "def get_comments(post, sort, n):\n",
    "    post.comment_sort = sort\n",
    "    post.comment_limit = n\n",
    "    #post.comments.replace_more(limit=0)\n",
    "    \n",
    "    return [get_comment_info(c, sort) for c in post.comments.list() if not isinstance(c, MoreComments)]\n",
    "\n",
    "\n",
    "def save_cmnt_df(cmnt_list, sub_name, n, perc):\n",
    "    df_cmnt = pd.DataFrame(cmnt_list)\n",
    "    df = df_cmnt.merge(pd.DataFrame(post_list), on='post_id')\n",
    "    df.columns = ['post_id', 'comment_id', 'comment_created_utc', 'comment_score', 'top_level',\n",
    "                  'sort', 'sub', 'post_title', 'comments_n', 'post_score', 'post_created_utc']\n",
    "    df = df.sort_values(['post_id', 'comment_created_utc', 'sort']).reset_index(drop=True)\n",
    "    df['in_old'] = df['comment_id'].isin(df.loc[df['sort']=='old', 'comment_id'].unique())\n",
    "    df = df.drop_duplicates(subset=['post_id', 'comment_id'], keep='last')\n",
    "    df['t_delta_min'] = (df['comment_created_utc'] - df['post_created_utc'])/60\n",
    "    df['comment_score_pct'] = df.groupby(['post_id'], as_index=False)['comment_score'].transform(lambda x: x/x.sum())\n",
    "    df['nth'] = df.groupby('post_id')['comment_id'].transform(lambda x: range(len(x)))\n",
    "    df.to_csv(f'./data/n-{n}_perc-{perc}_{sub_name}.csv', index=False)"
   ]
  },
  {
   "cell_type": "code",
   "execution_count": 26,
   "metadata": {},
   "outputs": [
    {
     "name": "stdout",
     "output_type": "stream",
     "text": [
      "askreddit\n"
     ]
    }
   ],
   "source": [
    "### don't run, original scraping\n",
    "#for sub_name in subs:\n",
    "    print(sub_name)\n",
    "    post_list, top_list, old_list = [], [], []\n",
    "    sub = reddit.subreddit(sub_name)\n",
    "    \n",
    "    posts = sub.top(limit=sub_limit)\n",
    "    #posts = [p for p in posts if p.num_comments > n_top*10]\n",
    "    for post in posts:\n",
    "        post_list.append(get_post_info(post, sub_name))\n",
    "        top_list.extend(get_comments(post, sort='top', n=n_top))\n",
    "    \n",
    "    posts = sub.top(limit=sub_limit)\n",
    "    for post in posts:\n",
    "        old_list.extend(get_comments(post, sort='old', n=n_old))\n",
    "    \n",
    "    pickle.dump(post_list, open(f'./data/posts_{sub_name}.pickle', 'wb'))\n",
    "    pickle.dump(top_list, open(f'./data/top_{sub_name}.pickle', 'wb'))\n",
    "    pickle.dump(old_list, open(f'./data/old_{sub_name}.pickle', 'wb'))\n",
    "    #save_cmnt_df(post_list, cmnt_list, sub_name, n, perc)"
   ]
  },
  {
   "cell_type": "code",
   "execution_count": 5,
   "metadata": {},
   "outputs": [
    {
     "data": {
      "text/html": [
       "<div>\n",
       "<style scoped>\n",
       "    .dataframe tbody tr th:only-of-type {\n",
       "        vertical-align: middle;\n",
       "    }\n",
       "\n",
       "    .dataframe tbody tr th {\n",
       "        vertical-align: top;\n",
       "    }\n",
       "\n",
       "    .dataframe thead th {\n",
       "        text-align: right;\n",
       "    }\n",
       "</style>\n",
       "<table border=\"1\" class=\"dataframe\">\n",
       "  <thead>\n",
       "    <tr style=\"text-align: right;\">\n",
       "      <th></th>\n",
       "      <th>post_id</th>\n",
       "      <th>comment_id</th>\n",
       "      <th>comment_created_utc</th>\n",
       "      <th>comment_score</th>\n",
       "      <th>top_level</th>\n",
       "      <th>sort</th>\n",
       "      <th>sub</th>\n",
       "      <th>post_title</th>\n",
       "      <th>comments_n</th>\n",
       "      <th>post_score</th>\n",
       "      <th>post_created_utc</th>\n",
       "      <th>dt_min_post</th>\n",
       "      <th>dt_min_cmnt</th>\n",
       "      <th>in_old</th>\n",
       "      <th>rank</th>\n",
       "      <th>nth</th>\n",
       "      <th>comment_score_pct</th>\n",
       "      <th>norm_dom</th>\n",
       "    </tr>\n",
       "  </thead>\n",
       "  <tbody>\n",
       "    <tr>\n",
       "      <th>67315</th>\n",
       "      <td>hxq59l</td>\n",
       "      <td>fz8p761</td>\n",
       "      <td>1.595713e+09</td>\n",
       "      <td>1</td>\n",
       "      <td>True</td>\n",
       "      <td>oldest ~500 comments/post</td>\n",
       "      <td>memes</td>\n",
       "      <td>Slap it quick!</td>\n",
       "      <td>1448</td>\n",
       "      <td>142964</td>\n",
       "      <td>1.595697e+09</td>\n",
       "      <td>278.716667</td>\n",
       "      <td>277.683333</td>\n",
       "      <td>True</td>\n",
       "      <td>NaN</td>\n",
       "      <td>470.0</td>\n",
       "      <td>0.000048</td>\n",
       "      <td>0.022712</td>\n",
       "    </tr>\n",
       "    <tr>\n",
       "      <th>67316</th>\n",
       "      <td>hxq59l</td>\n",
       "      <td>fz8p7gs</td>\n",
       "      <td>1.595713e+09</td>\n",
       "      <td>1</td>\n",
       "      <td>True</td>\n",
       "      <td>oldest ~500 comments/post</td>\n",
       "      <td>memes</td>\n",
       "      <td>Slap it quick!</td>\n",
       "      <td>1448</td>\n",
       "      <td>142964</td>\n",
       "      <td>1.595697e+09</td>\n",
       "      <td>278.783333</td>\n",
       "      <td>277.750000</td>\n",
       "      <td>True</td>\n",
       "      <td>NaN</td>\n",
       "      <td>471.0</td>\n",
       "      <td>0.000048</td>\n",
       "      <td>0.022712</td>\n",
       "    </tr>\n",
       "    <tr>\n",
       "      <th>67317</th>\n",
       "      <td>hxq59l</td>\n",
       "      <td>fz8p8wy</td>\n",
       "      <td>1.595714e+09</td>\n",
       "      <td>1</td>\n",
       "      <td>True</td>\n",
       "      <td>oldest ~500 comments/post</td>\n",
       "      <td>memes</td>\n",
       "      <td>Slap it quick!</td>\n",
       "      <td>1448</td>\n",
       "      <td>142964</td>\n",
       "      <td>1.595697e+09</td>\n",
       "      <td>279.166667</td>\n",
       "      <td>278.133333</td>\n",
       "      <td>True</td>\n",
       "      <td>NaN</td>\n",
       "      <td>472.0</td>\n",
       "      <td>0.000048</td>\n",
       "      <td>0.022712</td>\n",
       "    </tr>\n",
       "    <tr>\n",
       "      <th>67318</th>\n",
       "      <td>hxq59l</td>\n",
       "      <td>fz8pa5g</td>\n",
       "      <td>1.595714e+09</td>\n",
       "      <td>20</td>\n",
       "      <td>False</td>\n",
       "      <td>oldest ~500 comments/post</td>\n",
       "      <td>memes</td>\n",
       "      <td>Slap it quick!</td>\n",
       "      <td>1448</td>\n",
       "      <td>142964</td>\n",
       "      <td>1.595697e+09</td>\n",
       "      <td>279.483333</td>\n",
       "      <td>278.450000</td>\n",
       "      <td>True</td>\n",
       "      <td>NaN</td>\n",
       "      <td>473.0</td>\n",
       "      <td>0.000958</td>\n",
       "      <td>0.454241</td>\n",
       "    </tr>\n",
       "    <tr>\n",
       "      <th>67319</th>\n",
       "      <td>hxq59l</td>\n",
       "      <td>fz8pa8q</td>\n",
       "      <td>1.595714e+09</td>\n",
       "      <td>8</td>\n",
       "      <td>False</td>\n",
       "      <td>oldest ~500 comments/post</td>\n",
       "      <td>memes</td>\n",
       "      <td>Slap it quick!</td>\n",
       "      <td>1448</td>\n",
       "      <td>142964</td>\n",
       "      <td>1.595697e+09</td>\n",
       "      <td>279.500000</td>\n",
       "      <td>278.466667</td>\n",
       "      <td>True</td>\n",
       "      <td>NaN</td>\n",
       "      <td>474.0</td>\n",
       "      <td>0.000383</td>\n",
       "      <td>0.181696</td>\n",
       "    </tr>\n",
       "  </tbody>\n",
       "</table>\n",
       "</div>"
      ],
      "text/plain": [
       "      post_id comment_id  comment_created_utc  comment_score  top_level  \\\n",
       "67315  hxq59l    fz8p761         1.595713e+09              1       True   \n",
       "67316  hxq59l    fz8p7gs         1.595713e+09              1       True   \n",
       "67317  hxq59l    fz8p8wy         1.595714e+09              1       True   \n",
       "67318  hxq59l    fz8pa5g         1.595714e+09             20      False   \n",
       "67319  hxq59l    fz8pa8q         1.595714e+09              8      False   \n",
       "\n",
       "                            sort    sub      post_title  comments_n  \\\n",
       "67315  oldest ~500 comments/post  memes  Slap it quick!        1448   \n",
       "67316  oldest ~500 comments/post  memes  Slap it quick!        1448   \n",
       "67317  oldest ~500 comments/post  memes  Slap it quick!        1448   \n",
       "67318  oldest ~500 comments/post  memes  Slap it quick!        1448   \n",
       "67319  oldest ~500 comments/post  memes  Slap it quick!        1448   \n",
       "\n",
       "       post_score  post_created_utc  dt_min_post  dt_min_cmnt  in_old  rank  \\\n",
       "67315      142964      1.595697e+09   278.716667   277.683333    True   NaN   \n",
       "67316      142964      1.595697e+09   278.783333   277.750000    True   NaN   \n",
       "67317      142964      1.595697e+09   279.166667   278.133333    True   NaN   \n",
       "67318      142964      1.595697e+09   279.483333   278.450000    True   NaN   \n",
       "67319      142964      1.595697e+09   279.500000   278.466667    True   NaN   \n",
       "\n",
       "         nth  comment_score_pct  norm_dom  \n",
       "67315  470.0           0.000048  0.022712  \n",
       "67316  471.0           0.000048  0.022712  \n",
       "67317  472.0           0.000048  0.022712  \n",
       "67318  473.0           0.000958  0.454241  \n",
       "67319  474.0           0.000383  0.181696  "
      ]
     },
     "execution_count": 5,
     "metadata": {},
     "output_type": "execute_result"
    }
   ],
   "source": [
    "def interpolate_n(x):\n",
    "    mean_rate = x.iloc[int(len(x)*0.75):-1]['rate'].mean()\n",
    "    x.loc[x['in_old']==False, 'nth'] = x.loc[x['in_old']==False, 't_delta_min']*mean_rate\n",
    "    \n",
    "    return x\n",
    "\n",
    "def in_oldest(x):\n",
    "    max_time = x.loc[x['sort']=='old', 'dt_min_post'].max()\n",
    "    x['in_old'] = x['dt_min_post'] <= max_time\n",
    "    \n",
    "    return x\n",
    "\n",
    "def lists_to_df(post_list, top_list, old_list, n_top):\n",
    "    df = pd.DataFrame(top_list)\n",
    "    df = df.sort_values(['post_id', 'score'], ascending=False).groupby('post_id').head(n_top)\n",
    "    df = df.append(pd.DataFrame(old_list)).merge(pd.DataFrame(post_list), on='post_id')\n",
    "    df.columns = ['post_id', 'comment_id', 'comment_created_utc', 'comment_score', 'top_level',\n",
    "                 'sort', 'sub', 'post_title', 'comments_n', 'post_score', 'post_created_utc']\n",
    "    \n",
    "    ### calculate time since post and if the comment is within the top n oldest\n",
    "    df['dt_min_post'] = ((df['comment_created_utc'] - df['post_created_utc'])/60).clip(0, None)\n",
    "    df['dt_min_cmnt'] = df.groupby('post_id', as_index=False)['comment_created_utc'].transform(lambda x: (x-x.min())/60).clip(0, None)\n",
    "    df = df.groupby('post_id', as_index=False).apply(in_oldest)\n",
    "    \n",
    "    ### sort by sort, creation time; drop dupes to retain only old not in top\n",
    "    df = df.sort_values(['post_id', 'sort', 'comment_created_utc']).reset_index(drop=True)\n",
    "    df = df.drop_duplicates(subset=['post_id', 'comment_id'], keep='last') # df['sort'].unique() = ['old', 'top']\n",
    "    \n",
    "    ### sort by score, assign rank\n",
    "    df = df.sort_values(['post_id', 'comment_score'], ascending=False).reset_index(drop=True)\n",
    "    df['rank'] = df.groupby('post_id', as_index=False)['comment_id'].transform(lambda x: [i+1 for i in range(len(x))])\n",
    "    df.loc[df['sort']=='old', 'rank'] = None\n",
    "    \n",
    "    ### sort only by creation time, assign nth; if not in oldest, replace with predicted n\n",
    "    df = df.sort_values(['post_id', 'comment_created_utc']).reset_index(drop=True)\n",
    "    df['nth'] = df.groupby('post_id', as_index=False)['comment_id'].transform(lambda x: [i+1 for i in range(len(x))])\n",
    "    #df['rate'] = df['nth'] / (df['t_delta_min']+0.5)\n",
    "    df.loc[df['in_old']==False, 'nth'] = None\n",
    "    #df = df.groupby('post_id', as_index=False).apply(interpolate_n)\n",
    "    #df = df.drop(columns=['rate'])\n",
    "    \n",
    "    ### calculate score dominance and \n",
    "    df['comment_score_pct'] = df.groupby(['post_id'], as_index=False)['comment_score'].transform(lambda x: x/x.sum())\n",
    "    df['norm_dom'] = df.groupby(['post_id'], as_index=False)['comment_score'].transform(lambda x: (x/x.sum())/(1/len(x)))\n",
    "    #df['nth_perc'] = (df['nth'] / df['comments_n']).clip(None, 1)\n",
    "    \n",
    "    ### label cleanup, drop unneeded\n",
    "    df.loc[df['sort']=='old', 'sort'] = 'oldest ~500 comments/post'\n",
    "    df.loc[df['sort']=='top', 'sort'] = f'top {n_top} comments/post'\n",
    "                                                                                         \n",
    "    return df\n",
    "\n",
    "\n",
    "def unpickle(sub_name):\n",
    "    post_list = pickle.load(open(f'./data/posts_{sub_name}.pickle', 'rb'))\n",
    "    top_list = pickle.load(open(f'./data/top_{sub_name}.pickle', 'rb'))\n",
    "    old_list = pickle.load(open(f'./data/old_{sub_name}.pickle', 'rb'))\n",
    "    \n",
    "    return post_list, top_list, old_list\n",
    "\n",
    "\n",
    "df_list = [lists_to_df(*unpickle(sub_name), n_top=10) for sub_name in subs]\n",
    "df = pd.concat(df_list)\n",
    "df = df.loc[(df['comments_n'] > 500)]\n",
    "df = df.loc[(df['dt_min_post'] <= 1440)]\n",
    "df = df.groupby('post_id').filter(lambda x: len(x)>250)\n",
    "\n",
    "df.tail()"
   ]
  },
  {
   "cell_type": "code",
   "execution_count": 120,
   "metadata": {},
   "outputs": [
    {
     "data": {
      "text/plain": [
       "3118914"
      ]
     },
     "execution_count": 120,
     "metadata": {},
     "output_type": "execute_result"
    }
   ],
   "source": [
    "len(df)"
   ]
  },
  {
   "cell_type": "code",
   "execution_count": 28,
   "metadata": {},
   "outputs": [
    {
     "data": {
      "text/plain": [
       "70335"
      ]
     },
     "execution_count": 28,
     "metadata": {},
     "output_type": "execute_result"
    }
   ],
   "source": [
    "len(df.loc[df['sort']=='top 10 comments/post'])"
   ]
  },
  {
   "cell_type": "code",
   "execution_count": 27,
   "metadata": {},
   "outputs": [
    {
     "data": {
      "text/plain": [
       "3048579"
      ]
     },
     "execution_count": 27,
     "metadata": {},
     "output_type": "execute_result"
    }
   ],
   "source": [
    "len(df.loc[df['sort']=='oldest ~500 comments/post'])"
   ]
  },
  {
   "cell_type": "code",
   "execution_count": 128,
   "metadata": {},
   "outputs": [
    {
     "data": {
      "text/plain": [
       "7036"
      ]
     },
     "execution_count": 128,
     "metadata": {},
     "output_type": "execute_result"
    }
   ],
   "source": [
    "len(df['post_id'].unique())"
   ]
  },
  {
   "cell_type": "code",
   "execution_count": 127,
   "metadata": {},
   "outputs": [
    {
     "data": {
      "text/plain": [
       "count    7036.00000\n",
       "mean      443.27942\n",
       "std        44.43776\n",
       "min       251.00000\n",
       "25%       437.00000\n",
       "50%       458.00000\n",
       "75%       470.00000\n",
       "max       499.00000\n",
       "Name: comment_id, dtype: float64"
      ]
     },
     "execution_count": 127,
     "metadata": {},
     "output_type": "execute_result"
    }
   ],
   "source": [
    "df.groupby('post_id')['comment_id'].agg('count').describe()"
   ]
  },
  {
   "cell_type": "code",
   "execution_count": 46,
   "metadata": {},
   "outputs": [
    {
     "data": {
      "text/plain": [
       "0.926608374209142"
      ]
     },
     "execution_count": 46,
     "metadata": {},
     "output_type": "execute_result"
    }
   ],
   "source": [
    "len(df[(df['in_old']==True) & (df['sort']=='top 10 comments/post')])/len(df[(df['sort']=='top 10 comments/post')])"
   ]
  },
  {
   "cell_type": "code",
   "execution_count": 31,
   "metadata": {},
   "outputs": [
    {
     "data": {
      "text/plain": [
       "count    70335.000000\n",
       "mean        92.169330\n",
       "std         95.744594\n",
       "min          0.000000\n",
       "25%         25.500000\n",
       "50%         66.983333\n",
       "75%        130.391667\n",
       "max       1348.416667\n",
       "Name: dt_min_cmnt, dtype: float64"
      ]
     },
     "execution_count": 31,
     "metadata": {},
     "output_type": "execute_result"
    }
   ],
   "source": [
    "df.loc[df['sort']=='top 10 comments/post', 'dt_min_cmnt'].describe()"
   ]
  },
  {
   "cell_type": "code",
   "execution_count": 92,
   "metadata": {},
   "outputs": [
    {
     "data": {
      "text/plain": [
       "count    3.048579e+06\n",
       "mean     3.577358e-01\n",
       "std      1.090014e+00\n",
       "min     -1.015357e+02\n",
       "25%      9.655623e-03\n",
       "50%      4.119464e-02\n",
       "75%      2.133151e-01\n",
       "max      5.029630e+01\n",
       "Name: norm_dom, dtype: float64"
      ]
     },
     "execution_count": 92,
     "metadata": {},
     "output_type": "execute_result"
    }
   ],
   "source": [
    "df.loc[df['sort']=='oldest ~500 comments/post', 'norm_dom'].describe()"
   ]
  },
  {
   "cell_type": "code",
   "execution_count": 91,
   "metadata": {},
   "outputs": [
    {
     "data": {
      "text/plain": [
       "count    65173.000000\n",
       "mean        74.805855\n",
       "std         97.575404\n",
       "min          1.000000\n",
       "25%         10.000000\n",
       "50%         33.000000\n",
       "75%         99.000000\n",
       "max        488.000000\n",
       "Name: nth, dtype: float64"
      ]
     },
     "execution_count": 91,
     "metadata": {},
     "output_type": "execute_result"
    }
   ],
   "source": [
    "df.loc[(df['sort']=='top 10 comments/post') & (~df['nth'].isna()), 'nth'].describe()"
   ]
  },
  {
   "cell_type": "code",
   "execution_count": 90,
   "metadata": {},
   "outputs": [
    {
     "data": {
      "text/plain": [
       "count    65173.000000\n",
       "mean         0.045140\n",
       "std          0.069355\n",
       "min          0.000030\n",
       "25%          0.005155\n",
       "50%          0.017621\n",
       "75%          0.054357\n",
       "max          0.830677\n",
       "dtype: float64"
      ]
     },
     "execution_count": 90,
     "metadata": {},
     "output_type": "execute_result"
    }
   ],
   "source": [
    "(df.loc[(df['sort']=='top 10 comments/post') & (~df['nth'].isna()), 'nth']/df.loc[(df['sort']=='top 10 comments/post') & (~df['nth'].isna()), 'comments_n']).describe()"
   ]
  },
  {
   "cell_type": "code",
   "execution_count": 118,
   "metadata": {},
   "outputs": [],
   "source": [
    "### % of total comments\n",
    "#p = ggplot(df, aes(x='nth_perc*100', y='comment_score_pct', color='in_old')) + geom_point(size=0.2, alpha=0.1) + facet_wrap('~sort', ncol=2)\n",
    "#p = p + scale_x_continuous(name='comment order (nth) / total post comments, %')\n",
    "#p = p + scale_color_manual(name=' ', labels=['order known', 'predicted'], values=['red', 'black'], guide=False)\n",
    "\n",
    "### order\n",
    "#p = ggplot(df, aes(x='nth', y='comment_score_pct', color='in_old')) + geom_point(size=0.2, alpha=0.1) + facet_wrap('~sort', ncol=2)\n",
    "#p = p + scale_x_continuous(name='comment order (nth)', limits=[0, 1000])\n",
    "#p = p + scale_color_manual(name=' ', labels=['order known', 'predicted'], values=['red', 'black'], guide=False)\n",
    "\n",
    "### time delta\n",
    "p = ggplot(df, aes(x='dt_min_cmnt/60', y='norm_dom')) + geom_point(size=0.01, alpha=0.25) + facet_wrap('~sort', ncol=2)\n",
    "#p = ggplot(df, aes(x='dt_min_cmnt/60', y='comment_score_pct')) + geom_point(size=0.2, alpha=0.2) + facet_wrap('~sort', ncol=2)\n",
    "p = p + scale_x_continuous(name='time since submission, hours', breaks=[0, 6, 12, 18, 24], limits=[0, 24])\n",
    "p = p + scale_y_continuous(name='normalized comment dominance\\n\\ncomment score / mean(oldest + top 10)')\n",
    "#p = p + scale_y_continuous(name='comment score/sum(top 5 + oldest)')\n",
    "p = p + theme_minimal() + theme(text = element_text(family='Hack', size=12),\n",
    "                                axis_text = element_text(family='Hack', size=10),\n",
    "                                plot_background=element_rect(fill='white', color='white'))\n",
    "p = p + geom_vline(aes(xintercept=67/60), color='red', size=0.5, linetype='dashed', data=df.loc[df['sort']=='top 10 comments/post'])\n",
    "#p = p + scale_color_manual(name=' ', limits=[True, False], values=['black', 'red'], guide=False)\n",
    "p = p + geom_hline(aes(yintercept=0.36), color='red', size=0.5, linetype='dashed', data=df.loc[df['sort']=='oldest ~500 comments/post'])\n",
    "p = p + theme(subplots_adjust={'wspace':0.2})\n",
    "#p"
   ]
  },
  {
   "cell_type": "code",
   "execution_count": 119,
   "metadata": {},
   "outputs": [
    {
     "name": "stderr",
     "output_type": "stream",
     "text": [
      "/home/jwhendy/.local/lib/python3.8/site-packages/plotnine/ggplot.py:727: PlotnineWarning: Saving 7 x 4 in image.\n",
      "  warn(\"Saving {0} x {1} {2} image.\".format(\n",
      "/home/jwhendy/.local/lib/python3.8/site-packages/plotnine/ggplot.py:730: PlotnineWarning: Filename: top-10_delta_s0p01_a0p25.png\n",
      "  warn('Filename: {}'.format(filename), PlotnineWarning)\n"
     ]
    }
   ],
   "source": [
    "p.save('top-10_delta_s0p01_a0p25.png', dpi=200, width=7, height=4)"
   ]
  },
  {
   "cell_type": "code",
   "execution_count": 122,
   "metadata": {},
   "outputs": [
    {
     "data": {
      "text/plain": [
       "array(['soccer', 'nba', 'hockey', 'blog', 'announcements', 'movies',\n",
       "       'iama', 'news', 'funny', 'gifs', 'gaming', 'mildlyinteresting',\n",
       "       'sports', 'pics', 'aww', 'creepy', 'television', 'todayilearned',\n",
       "       'worldnews', 'wtf', 'space', 'teenagers', 'nottheonion', 'videos',\n",
       "       'memes', 'friendsafari', 'adviceanimals', 'gadgets',\n",
       "       'oldschoolcool', 'twoxchromosomes', 'dataisbeautiful', 'tifu',\n",
       "       'art', 'upliftingnews', 'showerthoughts', 'askreddit', 'books',\n",
       "       'music', 'diy', 'futurology', 'lifeprotips', 'food',\n",
       "       'internetisbeautiful', 'earthporn', 'science', 'listentothis',\n",
       "       'personalfinance', 'jokes', 'philosophy', 'photoshopbattles',\n",
       "       'documentaries', 'askscience', 'history', 'explainlikeimfive',\n",
       "       'nosleep', 'writingprompts', 'debatereligion'], dtype=object)"
      ]
     },
     "execution_count": 122,
     "metadata": {},
     "output_type": "execute_result"
    }
   ],
   "source": [
    "df_c = df.copy().loc[df['sort'] == 'top 10 comments/post']\n",
    "df_c= df_c.groupby(['sub', 'post_id'], as_index=False).agg({'dt_min_cmnt': 'mean'})\n",
    "df_c = df_c.groupby(['sub'], as_index=False)['dt_min_cmnt'].agg('mean')\n",
    "sub_order = df_c.sort_values('dt_min_cmnt')['sub'].unique()\n",
    "sub_order"
   ]
  },
  {
   "cell_type": "code",
   "execution_count": 132,
   "metadata": {},
   "outputs": [],
   "source": [
    "df_d = df.copy()\n",
    "df_d['sub'] = pd.Categorical(df_d['sub'], categories=sub_order)\n",
    "p = ggplot(df_d, aes(x='dt_min_cmnt/60', color='sort')) + geom_density(aes(y='stat(scaled)')) + facet_wrap('~sub', ncol=8)\n",
    "p = p + scale_x_continuous(name='time since submission, hours', breaks=[0, 6, 12, 18, 24])\n",
    "p = p + theme_minimal() + theme(text = element_text(family='Hack', size=12),\n",
    "                                axis_text = element_text(family='Hack', size=10),\n",
    "                                plot_background=element_rect(fill='white'))\n",
    "p = p + scale_y_continuous(name='density')\n",
    "p = p + scale_color_manual(name=' ', breaks=['top 10 comments/post', 'oldest ~500 comments/post'],\n",
    "                           labels = ['top 10 comments', 'oldest ~500 comments'],\n",
    "                           values=['black', 'red'])\n",
    "p = p + theme(subplots_adjust={'wspace':0.2, 'hspace':0.5})\n",
    "#p"
   ]
  },
  {
   "cell_type": "code",
   "execution_count": 133,
   "metadata": {},
   "outputs": [],
   "source": [
    "p.save('oldest-vs-top_by-sub.png', dpi=200, width=16, height=16)"
   ]
  },
  {
   "cell_type": "code",
   "execution_count": null,
   "metadata": {},
   "outputs": [],
   "source": []
  },
  {
   "cell_type": "code",
   "execution_count": null,
   "metadata": {},
   "outputs": [],
   "source": []
  },
  {
   "cell_type": "code",
   "execution_count": null,
   "metadata": {},
   "outputs": [],
   "source": []
  },
  {
   "cell_type": "code",
   "execution_count": 68,
   "metadata": {},
   "outputs": [
    {
     "data": {
      "image/png": "[encoded data removed]",
      "text/plain": [
       "<Figure size 640x480 with 1 Axes>"
      ]
     },
     "metadata": {},
     "output_type": "display_data"
    },
    {
     "data": {
      "text/plain": [
       "<ggplot: (8753429032147)>"
      ]
     },
     "execution_count": 68,
     "metadata": {},
     "output_type": "execute_result"
    }
   ],
   "source": []
  }
 ],
 "metadata": {
  "kernelspec": {
   "display_name": "Python 3",
   "language": "python",
   "name": "python3"
  },
  "language_info": {
   "codemirror_mode": {
    "name": "ipython",
    "version": 3
   },
   "file_extension": ".py",
   "mimetype": "text/x-python",
   "name": "python",
   "nbconvert_exporter": "python",
   "pygments_lexer": "ipython3",
   "version": "3.8.5"
  }
 },
 "nbformat": 4,
 "nbformat_minor": 4
}
